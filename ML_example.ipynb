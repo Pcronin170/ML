{
 "cells": [
  {
   "cell_type": "markdown",
   "metadata": {},
   "source": [
    "# ML Test\n",
    "Objective:   Train a classification models to make prediction on testing data set, using the data in the “Sequence model data.zip” file. \n",
    "\n",
    "Note: \n",
    "1.\tThis is a sequence classification task, where the order of each feature matters. You could train a model without considering order as a baseline model, but must train a model addressing sequence because in real work, sequence analysis is part of the project.\n",
    "1.\tEach row represents a training/testing sample containing a sequence, where the first element is “PPD_197” and last element is “PPD_0”.\n",
    "1.\tAll the sequences have been padding, which is the reason why lots of zeros show up in “PPD_0”. \n",
    "1.\tAll the values in each entry is categorical variable. Imaging every value in the entry as an index of a word in natural language. \n",
    "1.\tY-variable is the first column called “LABEL”, in testing data, there is no label\n",
    "\n",
    "What we expect,\n",
    "1.\tA good prediction result, which we will compare with the hold out y variable in the testing data set\n",
    "1.\tThe process of how the prediction is made, including \n",
    "  1. create new features based on existing variables could be needed. \n",
    "  1. feature analysis \n",
    "  1. feature selection \n",
    "  1. model comparison\n",
    "  1. hyper-parameter tuning\n",
    "1.\tIf you could use library such as Keras, Tensorflow to train a deep neural network (DNN) classifier, that will be a very good plus, even if neural networks might not be the best performed model. \n",
    "You could use any tools available to you for this task. Ultimately, we will assess your work based on two criteria. \n",
    "  1. predictive accuracy on the test set using the PR-AUC metric, \n",
    "  1. model structure you finally applied, for example, we will consider how advance the model is, or if you could create additional meaningful features from the data we gave to you.\n",
    "1. You should return to us the following:\n",
    "  1. A 23,910 x 1 csv or txt file containing one prediction per line for each row in the test dataset.\n",
    "  1. A brief report describing the techniques you used to obtain the predictions, that at least should include the following parts: \n",
    "    1. why do you choose the model you use? \n",
    "    1. your estimates of predictive performance on the test data set, \n",
    "    1. some words telling us your understanding about the model you use. \n",
    "    1. The code for building the model, or the saved model such as pickle file.  \n"
   ]
  },
  {
   "cell_type": "markdown",
   "metadata": {},
   "source": [
    "## Plan\n",
    "Below is the plan that I intend to fulfill\n",
    "\n",
    "1. Split data into training and testing sets\n",
    "1. Explore basic summary stats\n",
    "1. Create a data set for all key predictors 1, 2 and 3 word combinations\n",
    "  1. Create dictionary of dictionaries to do it (function)\n",
    "  1. Remove in frequent combinations\n",
    "  1. Create pandas dataframe with all the good predictors (function)\n",
    "1. Perform feature selection to reduce to the key features\n",
    "  1. Get it down to 100 features\n",
    "1. Run 3 models and try to tune some parameters: \n",
    "  1. Logistic Regressions\n",
    "  1. Random forest\n",
    "  1. Support Vector machine\n",
    "1. Validate on the testing sets and test the one with the best outcome to ensure that it's not overfit\n",
    "1. Run the prediction on the lock box training set\n",
    "  1. Create a few summary stats on the prediction to ensure that mistakes weren't made\n"
   ]
  },
  {
   "cell_type": "markdown",
   "metadata": {},
   "source": [
    "# Libraries\n",
    "Set up the libraries needed for this project"
   ]
  },
  {
   "cell_type": "code",
   "execution_count": 1,
   "metadata": {
    "ExecuteTime": {
     "end_time": "2019-04-01T15:17:36.736812Z",
     "start_time": "2019-04-01T15:17:34.381576Z"
    }
   },
   "outputs": [],
   "source": [
    "import pandas as pd  \n",
    "import numpy as np\n",
    "import pickle\n",
    "import re\n",
    "import time\n",
    "from sklearn.model_selection import train_test_split\n",
    "from IPython.core.interactiveshell import InteractiveShell\n",
    "InteractiveShell.ast_node_interactivity = \"all\"\n",
    "\n",
    "from sklearn.metrics import average_precision_score\n",
    "from sklearn.metrics import precision_recall_curve\n",
    "import matplotlib.pyplot as plt\n",
    "from sklearn.utils.fixes import signature\n",
    "from sklearn import linear_model\n",
    "from sklearn.svm import LinearSVC\n",
    "from sklearn.svm import SVC\n",
    "from sklearn.feature_selection import SelectKBest\n",
    "from sklearn.feature_selection import chi2\n",
    "from sklearn import tree\n",
    "import pickle"
   ]
  },
  {
   "cell_type": "markdown",
   "metadata": {},
   "source": [
    "# Functions\n",
    "Create functions that will be used throughout the data process"
   ]
  },
  {
   "cell_type": "markdown",
   "metadata": {},
   "source": [
    "## create_phrases"
   ]
  },
  {
   "cell_type": "code",
   "execution_count": 2,
   "metadata": {
    "ExecuteTime": {
     "end_time": "2019-04-01T15:17:36.742812Z",
     "start_time": "2019-04-01T15:17:36.738812Z"
    }
   },
   "outputs": [],
   "source": [
    "def create_phrases(df):\n",
    "    \"\"\"Create unique phrases from the raw data\n",
    "\n",
    "    Args:\n",
    "        df(df): dataframe with an 'id' 'label' and n features\n",
    "        \n",
    "    Kwargs:\n",
    "        None\n",
    "\n",
    "    Returns:\n",
    "        Dataframe: 'id', 'label', 'comb' combined features\n",
    "    \"\"\"   \n",
    "    # Create a dataframe of combined features with id, label, and concatenated phrases of concatenated words\n",
    "    df_comb = pd.DataFrame(df[['id','label']])\n",
    "\n",
    "    #Create list of all columns to concatenate\n",
    "    cols = df.columns.values.tolist()\n",
    "    cols.remove('label')\n",
    "    cols.remove('id')\n",
    "\n",
    "    # Concatenate word to phrases and remove all zeros\n",
    "    df_comb['comb'] = df.loc[:, cols].apply(lambda x: '-'.join(x), axis=1)\n",
    "    df_comb['comb'].replace({'-0': ''}  ,inplace=True, regex=True)\n",
    "    df_comb['comb'].replace({'^[0]+-': ''},inplace=True, regex=True)\n",
    "    \n",
    "    return df_comb"
   ]
  },
  {
   "cell_type": "markdown",
   "metadata": {},
   "source": [
    "## populate_phrase_dict"
   ]
  },
  {
   "cell_type": "code",
   "execution_count": 3,
   "metadata": {
    "ExecuteTime": {
     "end_time": "2019-04-01T15:17:36.765815Z",
     "start_time": "2019-04-01T15:17:36.747813Z"
    }
   },
   "outputs": [],
   "source": [
    "def populate_phrase_dict(df):\n",
    "    \"\"\"Create a dictonary of phrases per observation and records\n",
    "       phrase counts.\n",
    "\n",
    "    Args:\n",
    "        df(df): dataframe with 'id','label', and n features\n",
    "        phrases: dionary of phrases to include\n",
    "        \n",
    "    Kwargs:\n",
    "        None\n",
    "\n",
    "    Returns:\n",
    "        Dataframe: 'id', 'label', 'comb' combined features\n",
    "    \"\"\"   \n",
    "    phrase_d = {} \n",
    "    phrase_cnt_d = {}\n",
    "\n",
    "    for index, row in df.iterrows():\n",
    "        #Identify all unique 2 and 3 word combinations per row\n",
    "        r2 = re.findall(r\"\\d+-\\d+\",row['comb'])\n",
    "        r3 = re.findall(r\"\\d+-\\d+-\\d+\",row['comb'])\n",
    "        r = r2+r3\n",
    "        r = list(set(r))\n",
    "\n",
    "        #Create a new key for the row id\n",
    "        phrase_d[row['id']] = {}\n",
    "\n",
    "        #Populate dionaries for unique phrases and phrase counts by id\n",
    "        for j in r:\n",
    "            phrase_d[row['id']][j] = 1\n",
    "            if j in phrase_cnt_d:\n",
    "                phrase_cnt_d[j] += 1\n",
    "            else:\n",
    "                phrase_cnt_d[j] = 1\n",
    "                \n",
    "    return phrase_d, phrase_cnt_d\n"
   ]
  },
  {
   "cell_type": "markdown",
   "metadata": {},
   "source": [
    "## populate_tidy_data"
   ]
  },
  {
   "cell_type": "code",
   "execution_count": 4,
   "metadata": {
    "ExecuteTime": {
     "end_time": "2019-04-01T15:17:36.781816Z",
     "start_time": "2019-04-01T15:17:36.768815Z"
    }
   },
   "outputs": [],
   "source": [
    "def populate_tidy_data(phrase_d, phrase_l, df_raw):\n",
    "    \"\"\"Populate final tidy data set with phrases from list phrase_l\n",
    "\n",
    "    Args:\n",
    "        phrase_d(dict): dictionary of features per id\n",
    "        phrase_l(list): list of phrases to include\n",
    "        df(df): dataframe wtih 'id' and 'label'\n",
    "        \n",
    "    Kwargs:\n",
    "        None\n",
    "\n",
    "    Returns:\n",
    "        Dataframe: 'id', 'label', 'comb' combined features\n",
    "    \"\"\"   \n",
    "    phrase_df = pd.DataFrame(columns=phrase_l, dtype=bool)\n",
    "    \n",
    "    #Add id and label to the table\n",
    "    train_tidy = pd.concat([df_raw[['id','label']],phrase_df], axis=1)\n",
    "    train_tidy = train_tidy.fillna(0)\n",
    "\n",
    "    # Identify columns used in the process\n",
    "    columns = list(train_tidy[phrase_l].columns)\n",
    "\n",
    "    # Populate train_tidy with features from phrase_d\n",
    "    for index, row in train_tidy.iterrows():\n",
    "        for col in columns:\n",
    "            if col in phrase_d[row['id']]:\n",
    "                train_tidy.at[index,col] = 1\n",
    "                \n",
    "    return train_tidy"
   ]
  },
  {
   "cell_type": "markdown",
   "metadata": {},
   "source": [
    "# Upload data\n",
    "Upload the raw data and create training and testing data sets\n",
    "\n",
    "**Output**\n",
    "* train_df: Training data set\n",
    "* test_df: Testing data set"
   ]
  },
  {
   "cell_type": "code",
   "execution_count": 5,
   "metadata": {
    "ExecuteTime": {
     "end_time": "2019-04-01T15:17:40.155154Z",
     "start_time": "2019-04-01T15:17:36.785817Z"
    }
   },
   "outputs": [],
   "source": [
    "#Create system variables from excel into script and review values in dictionary\n",
    "df = pd.read_csv('in/train.csv', dtype=str)\n",
    "df.columns = df.columns.str.lower()\n",
    "df['id'] = range(1, len(df) + 1)\n",
    "\n",
    "# Split into training and testing data\n",
    "train_df, test_df = train_test_split(df, test_size=0.2)\n",
    "\n",
    "#Drop df to save memory\n",
    "del df"
   ]
  },
  {
   "cell_type": "code",
   "execution_count": 6,
   "metadata": {
    "ExecuteTime": {
     "end_time": "2019-04-01T15:17:40.167155Z",
     "start_time": "2019-04-01T15:17:40.156154Z"
    }
   },
   "outputs": [
    {
     "data": {
      "text/plain": [
       "76635"
      ]
     },
     "execution_count": 6,
     "metadata": {},
     "output_type": "execute_result"
    },
    {
     "data": {
      "text/plain": [
       "19159"
      ]
     },
     "execution_count": 6,
     "metadata": {},
     "output_type": "execute_result"
    }
   ],
   "source": [
    "#Confirm the training and testing is split 80:20\n",
    "len(train_df)\n",
    "len(test_df)"
   ]
  },
  {
   "cell_type": "code",
   "execution_count": 7,
   "metadata": {
    "ExecuteTime": {
     "end_time": "2019-04-01T15:17:42.244363Z",
     "start_time": "2019-04-01T15:17:40.170155Z"
    }
   },
   "outputs": [],
   "source": [
    "train_df.to_pickle(\"out/train_df.pkl\")\n",
    "test_df.to_pickle(\"out/test_df.pkl\")"
   ]
  },
  {
   "cell_type": "markdown",
   "metadata": {},
   "source": [
    "# Tidy Training Data\n",
    "Create a tidy dataset where each column is a 1, 2 or 3 word phrase identified in the row that is above a certain count\n",
    "\n",
    "**Output**\n",
    "* train_tidy: Tidy data set with `id`, `label`, and ~1000 features to analyze\n",
    "* phrase_list: list of variables to include in the analysis"
   ]
  },
  {
   "cell_type": "markdown",
   "metadata": {},
   "source": [
    "## Create phrases\n",
    "Identify all permutations of 1, 2 and 3 word phrases in the document"
   ]
  },
  {
   "cell_type": "code",
   "execution_count": 8,
   "metadata": {
    "ExecuteTime": {
     "end_time": "2019-04-01T15:17:46.188757Z",
     "start_time": "2019-04-01T15:17:42.247363Z"
    }
   },
   "outputs": [],
   "source": [
    "# Concatenate all words into a single string\n",
    "df_comb = create_phrases(train_df)"
   ]
  },
  {
   "cell_type": "code",
   "execution_count": 9,
   "metadata": {
    "ExecuteTime": {
     "end_time": "2019-04-01T15:18:31.217259Z",
     "start_time": "2019-04-01T15:17:46.189757Z"
    }
   },
   "outputs": [],
   "source": [
    "# Identify all 2 and 3 word phrases\n",
    "(phrase_dict, phrase_cnt_dict) = populate_phrase_dict(df_comb)"
   ]
  },
  {
   "cell_type": "markdown",
   "metadata": {},
   "source": [
    "## Set Thresholds\n",
    "Determine cut offs for frequency of phrases so that the future data frame so there is a resonable number of features.  The output of this is an empty dataframe with all of the phrases we are going to consider for the analysis.\n",
    "\n",
    "* All values that appeared at least 400 times were included as it created around 1000 features and was feasible to calcualte in the future."
   ]
  },
  {
   "cell_type": "code",
   "execution_count": 10,
   "metadata": {
    "ExecuteTime": {
     "end_time": "2019-04-01T15:18:31.527290Z",
     "start_time": "2019-04-01T15:18:31.220260Z"
    }
   },
   "outputs": [],
   "source": [
    "# Create dataframe with counts of unique phrases per observation\n",
    "phrase_cnt_df = pd.DataFrame.from_dict(phrase_cnt_dict, orient='index')\n",
    "phrase_cnt_df.columns = ['cnt']\n",
    "phrase_cnt_df.cnt = pd.to_numeric(phrase_cnt_df.cnt)"
   ]
  },
  {
   "cell_type": "code",
   "execution_count": 11,
   "metadata": {
    "ExecuteTime": {
     "end_time": "2019-04-01T15:18:31.541292Z",
     "start_time": "2019-04-01T15:18:31.531291Z"
    }
   },
   "outputs": [
    {
     "data": {
      "text/plain": [
       "1001"
      ]
     },
     "execution_count": 11,
     "metadata": {},
     "output_type": "execute_result"
    }
   ],
   "source": [
    "# A minimum of at least 400 rows having a phrase cuts the list down to around 1000 predictors which is\n",
    "# reasonable given the computational resources for this exercise\n",
    "phrase_list = phrase_cnt_df[phrase_cnt_df['cnt']>400].index.tolist()\n",
    "len(phrase_list)"
   ]
  },
  {
   "cell_type": "markdown",
   "metadata": {},
   "source": [
    "## Populate Tidy Data\n",
    "Populate train_tidy with the following:\n",
    "* id and label from train_df\n",
    "* True if the feature existed for that observation\n",
    "* Limited to the ~1000 most popular phrases"
   ]
  },
  {
   "cell_type": "code",
   "execution_count": 12,
   "metadata": {
    "ExecuteTime": {
     "end_time": "2019-04-01T15:32:17.332863Z",
     "start_time": "2019-04-01T15:18:31.545292Z"
    }
   },
   "outputs": [],
   "source": [
    "train_tidy=populate_tidy_data(phrase_dict, phrase_list, df_comb)"
   ]
  },
  {
   "cell_type": "code",
   "execution_count": 55,
   "metadata": {
    "ExecuteTime": {
     "end_time": "2019-04-01T15:52:46.689791Z",
     "start_time": "2019-04-01T15:52:43.424464Z"
    }
   },
   "outputs": [],
   "source": [
    "# Pickle data for easy reuse later\n",
    "train_tidy.to_pickle(\"out/train_tidy.pkl\")"
   ]
  },
  {
   "cell_type": "code",
   "execution_count": 56,
   "metadata": {
    "ExecuteTime": {
     "end_time": "2019-04-01T15:52:47.778900Z",
     "start_time": "2019-04-01T15:52:46.691791Z"
    }
   },
   "outputs": [],
   "source": [
    "# Reload train_tidy from pickle file\n",
    "train_tidy = pd.read_pickle(\"out/train_tidy.pkl\")"
   ]
  },
  {
   "cell_type": "markdown",
   "metadata": {},
   "source": [
    "# Feature Selection\n",
    "Identify the top 100 features based by using a chi-squarred test.\n",
    "\n",
    "**Output**\n",
    "* X_train(df): Training features\n",
    "* y_train(df): Training Outcome\n",
    "* X_features(list): List of final features to include in the model"
   ]
  },
  {
   "cell_type": "code",
   "execution_count": 25,
   "metadata": {
    "ExecuteTime": {
     "end_time": "2019-04-01T15:42:34.919620Z",
     "start_time": "2019-04-01T15:42:34.738602Z"
    }
   },
   "outputs": [
    {
     "data": {
      "text/plain": [
       "(150, 4)"
      ]
     },
     "execution_count": 25,
     "metadata": {},
     "output_type": "execute_result"
    },
    {
     "data": {
      "text/plain": [
       "(150, 2)"
      ]
     },
     "execution_count": 25,
     "metadata": {},
     "output_type": "execute_result"
    }
   ],
   "source": [
    "from sklearn.datasets import load_iris\n",
    "from sklearn.feature_selection import SelectKBest\n",
    "from sklearn.feature_selection import chi2\n",
    "iris = load_iris()\n",
    "X, y = iris.data, iris.target\n",
    "X.shape\n",
    "\n",
    "X_new = SelectKBest(chi2, k=2).fit_transform(X, y)\n",
    "X_new.shape"
   ]
  },
  {
   "cell_type": "code",
   "execution_count": 41,
   "metadata": {
    "ExecuteTime": {
     "end_time": "2019-04-01T15:46:47.364862Z",
     "start_time": "2019-04-01T15:46:46.381764Z"
    }
   },
   "outputs": [
    {
     "name": "stdout",
     "output_type": "stream",
     "text": [
      "     Feature       Score\n",
      "484    67-44  815.479182\n",
      "140     1-44  649.791900\n",
      "10     44-20  646.759360\n",
      "420     1-67  618.096486\n",
      "345     20-6  602.181302\n",
      "224      2-6  510.876825\n",
      "781     44-6  475.928100\n",
      "282      6-6  366.778035\n",
      "594  1-67-44  364.896864\n",
      "132      6-2  340.901762\n"
     ]
    }
   ],
   "source": [
    "#Create training df and outcome vector\n",
    "X = train_tidy[phrase_list]\n",
    "y_train = pd.to_numeric(train_tidy.label)\n",
    "\n",
    "#Use SelectKBest to get the top 100 features\n",
    "kBestFeatures = SelectKBest(score_func=chi2, k=10)\n",
    "fit = kBestFeatures.fit(X,y_train)\n",
    "X_train = X[X.columns]\n",
    "\n",
    "#Review top 20 features for scores\n",
    "score_df = pd.DataFrame(fit.scores_)\n",
    "feature_df = pd.DataFrame(X.columns)\n",
    "feature_score_df = pd.concat([feature_df,score_df],axis=1)\n",
    "feature_score_df.columns = ['Feature','Score'] \n",
    "print(feature_score_df.nlargest(10,'Score')) "
   ]
  },
  {
   "cell_type": "code",
   "execution_count": 45,
   "metadata": {
    "ExecuteTime": {
     "end_time": "2019-04-01T15:47:35.076633Z",
     "start_time": "2019-04-01T15:47:35.011626Z"
    }
   },
   "outputs": [
    {
     "data": {
      "text/plain": [
       "(76635, 200)"
      ]
     },
     "execution_count": 45,
     "metadata": {},
     "output_type": "execute_result"
    },
    {
     "data": {
      "text/plain": [
       "(76635,)"
      ]
     },
     "execution_count": 45,
     "metadata": {},
     "output_type": "execute_result"
    }
   ],
   "source": [
    "X_train = X[feature_score_df[feature_score_df.index < 200].Feature.tolist()]\n",
    "\n",
    "# Confirm shape of X_train and y_train are correct\n",
    "X_train.shape\n",
    "y_train.shape"
   ]
  },
  {
   "cell_type": "markdown",
   "metadata": {},
   "source": [
    "# Tidy Testing Data\n",
    "Create the testing data set based on the data process to create the training data"
   ]
  },
  {
   "cell_type": "code",
   "execution_count": 51,
   "metadata": {
    "ExecuteTime": {
     "end_time": "2019-04-01T15:49:11.332257Z",
     "start_time": "2019-04-01T15:49:10.181142Z"
    }
   },
   "outputs": [],
   "source": [
    "# Concatenate all words into a single string\n",
    "test_comb_df = create_phrases(test_df)"
   ]
  },
  {
   "cell_type": "code",
   "execution_count": 84,
   "metadata": {
    "ExecuteTime": {
     "end_time": "2019-04-01T17:07:09.184136Z",
     "start_time": "2019-04-01T17:07:09.176135Z"
    }
   },
   "outputs": [
    {
     "data": {
      "text/html": [
       "<div>\n",
       "<style scoped>\n",
       "    .dataframe tbody tr th:only-of-type {\n",
       "        vertical-align: middle;\n",
       "    }\n",
       "\n",
       "    .dataframe tbody tr th {\n",
       "        vertical-align: top;\n",
       "    }\n",
       "\n",
       "    .dataframe thead th {\n",
       "        text-align: right;\n",
       "    }\n",
       "</style>\n",
       "<table border=\"1\" class=\"dataframe\">\n",
       "  <thead>\n",
       "    <tr style=\"text-align: right;\">\n",
       "      <th></th>\n",
       "      <th>id</th>\n",
       "      <th>label</th>\n",
       "      <th>comb</th>\n",
       "    </tr>\n",
       "  </thead>\n",
       "  <tbody>\n",
       "    <tr>\n",
       "      <th>31624</th>\n",
       "      <td>31625</td>\n",
       "      <td>0</td>\n",
       "      <td>2-3-19-4-2-9-32-87-2-19-2-36-36-2-2-9-3-145-15...</td>\n",
       "    </tr>\n",
       "    <tr>\n",
       "      <th>34337</th>\n",
       "      <td>34338</td>\n",
       "      <td>0</td>\n",
       "      <td>101-20-6-18-6-18-47-4-4-8-84-4-60-4-8-100-60-4...</td>\n",
       "    </tr>\n",
       "    <tr>\n",
       "      <th>24917</th>\n",
       "      <td>24918</td>\n",
       "      <td>0</td>\n",
       "      <td>1-57-1-14-30-103-86-10-89-33-87-95-1-156-87-1-...</td>\n",
       "    </tr>\n",
       "    <tr>\n",
       "      <th>57905</th>\n",
       "      <td>57906</td>\n",
       "      <td>0</td>\n",
       "      <td>1-88-110-12-3-192-214-38-62-130-10-67-110-33-1...</td>\n",
       "    </tr>\n",
       "    <tr>\n",
       "      <th>34088</th>\n",
       "      <td>34089</td>\n",
       "      <td>0</td>\n",
       "      <td>18</td>\n",
       "    </tr>\n",
       "  </tbody>\n",
       "</table>\n",
       "</div>"
      ],
      "text/plain": [
       "          id label                                               comb\n",
       "31624  31625     0  2-3-19-4-2-9-32-87-2-19-2-36-36-2-2-9-3-145-15...\n",
       "34337  34338     0  101-20-6-18-6-18-47-4-4-8-84-4-60-4-8-100-60-4...\n",
       "24917  24918     0  1-57-1-14-30-103-86-10-89-33-87-95-1-156-87-1-...\n",
       "57905  57906     0  1-88-110-12-3-192-214-38-62-130-10-67-110-33-1...\n",
       "34088  34089     0                                                 18"
      ]
     },
     "execution_count": 84,
     "metadata": {},
     "output_type": "execute_result"
    }
   ],
   "source": [
    "test_comb_df.head()"
   ]
  },
  {
   "cell_type": "code",
   "execution_count": 52,
   "metadata": {
    "ExecuteTime": {
     "end_time": "2019-04-01T15:49:24.537578Z",
     "start_time": "2019-04-01T15:49:11.334257Z"
    }
   },
   "outputs": [],
   "source": [
    "# Identify all 2 and 3 word phrases\n",
    "(test_phrase_dict, test_phrase_cnt_dict) = populate_phrase_dict(test_comb_df)"
   ]
  },
  {
   "cell_type": "code",
   "execution_count": 85,
   "metadata": {
    "ExecuteTime": {
     "end_time": "2019-04-01T17:14:36.915997Z",
     "start_time": "2019-04-01T17:11:30.151159Z"
    }
   },
   "outputs": [],
   "source": [
    "#Create final testing tidy data set\n",
    "test_tidy= populate_tidy_data(test_phrase_dict, phrase_list, test_comb_df)"
   ]
  },
  {
   "cell_type": "code",
   "execution_count": 86,
   "metadata": {
    "ExecuteTime": {
     "end_time": "2019-04-01T17:16:16.391997Z",
     "start_time": "2019-04-01T17:16:16.273997Z"
    }
   },
   "outputs": [
    {
     "data": {
      "text/plain": [
       "(19159, 1001)"
      ]
     },
     "execution_count": 86,
     "metadata": {},
     "output_type": "execute_result"
    },
    {
     "data": {
      "text/plain": [
       "(19159,)"
      ]
     },
     "execution_count": 86,
     "metadata": {},
     "output_type": "execute_result"
    }
   ],
   "source": [
    "#Create final data sets based on the variables we need\n",
    "X_test = test_tidy[phrase_list]\n",
    "y_test = pd.to_numeric(test_tidy['label'])\n",
    "X_test.shape\n",
    "y_test.shape"
   ]
  },
  {
   "cell_type": "markdown",
   "metadata": {},
   "source": [
    "# Pickle Data\n",
    "Pickle the training and testing data sets so they can be reloaded in the future, and it can clear as much memory as possible so that it is saved for the future model runs"
   ]
  },
  {
   "cell_type": "code",
   "execution_count": 89,
   "metadata": {
    "ExecuteTime": {
     "end_time": "2019-04-01T17:17:16.343997Z",
     "start_time": "2019-04-01T17:17:10.679997Z"
    }
   },
   "outputs": [],
   "source": [
    "#Pickle Data\n",
    "X.to_pickle(\"out/X.pkl\")\n",
    "X_train.to_pickle(\"out/X_train.pkl\")\n",
    "y_train.to_pickle(\"out/y_train.pkl\")\n",
    "X_test.to_pickle(\"out/X_test.pkl\")\n",
    "y_test.to_pickle(\"out/y_test.pkl\")"
   ]
  },
  {
   "cell_type": "code",
   "execution_count": null,
   "metadata": {
    "ExecuteTime": {
     "end_time": "2019-04-01T01:04:53.179881Z",
     "start_time": "2019-04-01T01:04:53.113878Z"
    }
   },
   "outputs": [],
   "source": [
    "del X_train, y_train, X_test, y_test"
   ]
  },
  {
   "cell_type": "code",
   "execution_count": null,
   "metadata": {
    "ExecuteTime": {
     "end_time": "2019-04-01T15:12:21.411282Z",
     "start_time": "2019-04-01T15:12:20.213163Z"
    }
   },
   "outputs": [],
   "source": [
    "#Bring back in the data\n",
    "X_train = pd.read_pickle(\"out/X_train.pkl\")\n",
    "y_train = pd.read_pickle(\"out/y_train.pkl\")\n",
    "X_test  = pd.read_pickle(\"out/X_test.pkl\")\n",
    "y_test  = pd.read_pickle(\"out/y_test.pkl\")"
   ]
  },
  {
   "cell_type": "code",
   "execution_count": null,
   "metadata": {
    "ExecuteTime": {
     "end_time": "2019-04-01T15:16:16.172756Z",
     "start_time": "2019-04-01T15:16:16.165756Z"
    }
   },
   "outputs": [],
   "source": [
    "X_train.shape"
   ]
  },
  {
   "cell_type": "markdown",
   "metadata": {},
   "source": [
    "# Run Models"
   ]
  },
  {
   "cell_type": "markdown",
   "metadata": {},
   "source": [
    "## SVM Linear\n",
    "Create a support vector machine model"
   ]
  },
  {
   "cell_type": "markdown",
   "metadata": {},
   "source": [
    "### Train\n",
    "Train the Support Vector machine"
   ]
  },
  {
   "cell_type": "code",
   "execution_count": 93,
   "metadata": {
    "ExecuteTime": {
     "end_time": "2019-04-01T17:20:52.755935Z",
     "start_time": "2019-04-01T17:20:31.024762Z"
    }
   },
   "outputs": [
    {
     "data": {
      "text/plain": [
       "LinearSVC(C=1.0, class_weight={1: 10, 0: 1}, dual=True, fit_intercept=True,\n",
       "     intercept_scaling=1, loss='squared_hinge', max_iter=1000,\n",
       "     multi_class='ovr', penalty='l2', random_state=None, tol=0.0001,\n",
       "     verbose=0)"
      ]
     },
     "execution_count": 93,
     "metadata": {},
     "output_type": "execute_result"
    },
    {
     "name": "stdout",
     "output_type": "stream",
     "text": [
      "Average precision-recall score: 0.46\n"
     ]
    }
   ],
   "source": [
    "# Linear Support Vector Machine Model\n",
    "svmlinear_model = LinearSVC(class_weight={1:10,0:1})\n",
    "svmlinear_model.fit(X, y_train)\n",
    "y_score = svm_model.decision_function(X)\n",
    "\n",
    "#Calculate PR-AUC\n",
    "average_precision = average_precision_score(y_train, y_score)\n",
    "print('Average precision-recall score: {0:0.2f}'.format(average_precision))"
   ]
  },
  {
   "cell_type": "markdown",
   "metadata": {},
   "source": [
    "### Test\n",
    "Test the Support Vector machine"
   ]
  },
  {
   "cell_type": "code",
   "execution_count": 94,
   "metadata": {
    "ExecuteTime": {
     "end_time": "2019-04-01T17:20:52.890949Z",
     "start_time": "2019-04-01T17:20:52.757935Z"
    }
   },
   "outputs": [
    {
     "name": "stdout",
     "output_type": "stream",
     "text": [
      "Average precision-recall score: 0.46\n"
     ]
    }
   ],
   "source": [
    "y_score = svmlinear_model.decision_function(X_test)\n",
    "\n",
    "#Calculate PR-AUC\n",
    "average_precision = average_precision_score(y_test, y_score)\n",
    "print('Average precision-recall score: {0:0.2f}'.format(average_precision))"
   ]
  },
  {
   "cell_type": "markdown",
   "metadata": {},
   "source": [
    "## Linear Regression"
   ]
  },
  {
   "cell_type": "markdown",
   "metadata": {},
   "source": [
    "### Train"
   ]
  },
  {
   "cell_type": "code",
   "execution_count": 100,
   "metadata": {
    "ExecuteTime": {
     "end_time": "2019-04-01T17:22:48.558514Z",
     "start_time": "2019-04-01T17:22:40.647723Z"
    }
   },
   "outputs": [
    {
     "data": {
      "text/plain": [
       "LinearRegression(copy_X=True, fit_intercept=True, n_jobs=1, normalize=False)"
      ]
     },
     "execution_count": 100,
     "metadata": {},
     "output_type": "execute_result"
    },
    {
     "name": "stdout",
     "output_type": "stream",
     "text": [
      "Average precision-recall score: 0.47\n"
     ]
    }
   ],
   "source": [
    "reg = linear_model.LinearRegression()\n",
    "reg.fit(X, y_train)\n",
    "\n",
    "#Calculate PR-AUC\n",
    "y_score = reg.predict(X)\n",
    "average_precision = average_precision_score(y_train, y_score)\n",
    "print('Average precision-recall score: {0:0.2f}'.format(average_precision))"
   ]
  },
  {
   "cell_type": "markdown",
   "metadata": {},
   "source": [
    "### Test"
   ]
  },
  {
   "cell_type": "code",
   "execution_count": null,
   "metadata": {
    "ExecuteTime": {
     "start_time": "2019-04-01T18:23:03.201Z"
    }
   },
   "outputs": [],
   "source": [
    "y_score = reg.predict(X_test)\n",
    "\n",
    "#Calculate PR-AUC\n",
    "average_precision = average_precision_score(y_test, y_score)\n",
    "print('Average precision-recall score: {0:0.2f}'.format(average_precision))"
   ]
  },
  {
   "cell_type": "markdown",
   "metadata": {},
   "source": [
    "## SVM\n",
    "Run a non linear support vector machine with just the 200 predictors"
   ]
  },
  {
   "cell_type": "markdown",
   "metadata": {},
   "source": [
    "### Train"
   ]
  },
  {
   "cell_type": "code",
   "execution_count": null,
   "metadata": {
    "ExecuteTime": {
     "start_time": "2019-04-01T17:24:36.413Z"
    }
   },
   "outputs": [
    {
     "data": {
      "text/plain": [
       "SVC(C=1.0, cache_size=200, class_weight={1: 10, 0: 1}, coef0=0.0,\n",
       "  decision_function_shape='ovr', degree=3, gamma='auto', kernel='rbf',\n",
       "  max_iter=-1, probability=False, random_state=None, shrinking=True,\n",
       "  tol=0.001, verbose=False)"
      ]
     },
     "execution_count": 103,
     "metadata": {},
     "output_type": "execute_result"
    }
   ],
   "source": [
    "# Linear Support Vector Machine Model\n",
    "svm_model = SVC(class_weight={1:10,0:1})\n",
    "svm_model.fit(X_train, y_train)\n",
    "y_score = svm_model.decision_function(X_train)\n",
    "\n",
    "#Calculate PR-AUC\n",
    "average_precision = average_precision_score(y_train, y_score)\n",
    "print('Average precision-recall score: {0:0.2f}'.format(average_precision))"
   ]
  },
  {
   "cell_type": "markdown",
   "metadata": {},
   "source": [
    "### Test"
   ]
  },
  {
   "cell_type": "markdown",
   "metadata": {},
   "source": [
    "# Final Model"
   ]
  },
  {
   "cell_type": "markdown",
   "metadata": {},
   "source": [
    "## Tidy Final Data\n",
    "Create the testing data set based on the data process to create the training data"
   ]
  },
  {
   "cell_type": "code",
   "execution_count": null,
   "metadata": {},
   "outputs": [],
   "source": [
    "# Concatenate all words into a single string\n",
    "final_comb_df = create_phrases(final_df)\n",
    "final_comb_df.shape"
   ]
  },
  {
   "cell_type": "code",
   "execution_count": null,
   "metadata": {},
   "outputs": [],
   "source": [
    "# Identify all 2 and 3 word phrases\n",
    "(final_phrase_dict, final_phrase_cnt_dict) = populate_phrase_dict(final_comb_df)\n",
    "len(final_phrase_dict.keys())\n",
    "len(final_phrase_cnt_dict.keys())"
   ]
  },
  {
   "cell_type": "code",
   "execution_count": null,
   "metadata": {},
   "outputs": [],
   "source": [
    "#Create final finaling tidy data set\n",
    "final_tidy= populate_tidy_data(final_phrase_dict, phrase_list, final_comb_df)\n",
    "final_tidy.shape"
   ]
  },
  {
   "cell_type": "code",
   "execution_count": null,
   "metadata": {},
   "outputs": [],
   "source": [
    "#Create final data sets based on the variables we need\n",
    "X_final = test_tidy[X_train.columns]"
   ]
  },
  {
   "cell_type": "markdown",
   "metadata": {},
   "source": [
    "# Other Stuff\n",
    "Other interesting code that was pushed to the back for reference later"
   ]
  },
  {
   "cell_type": "code",
   "execution_count": null,
   "metadata": {
    "ExecuteTime": {
     "end_time": "2019-03-31T21:12:52.498187Z",
     "start_time": "2019-03-31T21:12:52.145167Z"
    }
   },
   "outputs": [],
   "source": [
    "\n",
    "\n",
    "precision, recall, _ = precision_recall_curve(y, y_score)\n",
    "\n",
    "# In matplotlib < 1.5, plt.fill_between does not have a 'step' argument\n",
    "step_kwargs = ({'step': 'post'}\n",
    "               if 'step' in signature(plt.fill_between).parameters\n",
    "               else {})\n",
    "plt.step(recall, precision, color='b', alpha=0.2,\n",
    "         where='post')\n",
    "plt.fill_between(recall, precision, alpha=0.2, color='b', **step_kwargs)\n",
    "\n",
    "plt.xlabel('Recall', color='w')\n",
    "plt.ylabel('Precision', color='w')\n",
    "plt.ylim([0.0, 1.05])\n",
    "plt.xlim([0.0, 1.0])\n",
    "plt.title('2-class Precision-Recall curve: AP={0:0.2f}'.format(\n",
    "          average_precision))\n",
    "plt.show()"
   ]
  },
  {
   "cell_type": "code",
   "execution_count": null,
   "metadata": {
    "ExecuteTime": {
     "end_time": "2019-03-31T20:32:41.692189Z",
     "start_time": "2019-03-31T20:32:41.684188Z"
    }
   },
   "outputs": [],
   "source": [
    "# Frequency\n",
    "# stats_df = df_melt \\\n",
    "# .groupby('value') \\\n",
    "# ['value'] \\\n",
    "# .agg('count') \\\n",
    "# .pipe(pd.DataFrame) \\\n",
    "# .rename(columns = {'value': 'frequency'})\n",
    "# \n",
    "# stats_df = stats_df.sort_values('frequency', ascending=False)\n",
    "# \n",
    "# # PDF\n",
    "# stats_df['pdf'] = stats_df['frequency'] / sum(stats_df['frequency'])\n",
    "# \n",
    "# # CDF\n",
    "# stats_df['cdf'] = stats_df['pdf'].cumsum()\n",
    "# stats_df = stats_df.reset_index()\n",
    "# stats_df.head()"
   ]
  }
 ],
 "metadata": {
  "kernelspec": {
   "display_name": "Python 3",
   "language": "python",
   "name": "python3"
  },
  "language_info": {
   "codemirror_mode": {
    "name": "ipython",
    "version": 3
   },
   "file_extension": ".py",
   "mimetype": "text/x-python",
   "name": "python",
   "nbconvert_exporter": "python",
   "pygments_lexer": "ipython3",
   "version": "3.6.5"
  },
  "toc": {
   "nav_menu": {},
   "number_sections": true,
   "sideBar": true,
   "skip_h1_title": false,
   "title_cell": "Table of Contents",
   "title_sidebar": "Contents",
   "toc_cell": false,
   "toc_position": {
    "height": "calc(100% - 180px)",
    "left": "10px",
    "top": "150px",
    "width": "265px"
   },
   "toc_section_display": true,
   "toc_window_display": true
  }
 },
 "nbformat": 4,
 "nbformat_minor": 2
}
